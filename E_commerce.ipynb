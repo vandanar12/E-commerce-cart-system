{
  "nbformat": 4,
  "nbformat_minor": 0,
  "metadata": {
    "colab": {
      "provenance": [],
      "authorship_tag": "ABX9TyNWAQtgzFH45qY8FI1mFY6h",
      "include_colab_link": true
    },
    "kernelspec": {
      "name": "python3",
      "display_name": "Python 3"
    },
    "language_info": {
      "name": "python"
    }
  },
  "cells": [
    {
      "cell_type": "markdown",
      "metadata": {
        "id": "view-in-github",
        "colab_type": "text"
      },
      "source": [
        "<a href=\"https://colab.research.google.com/github/vandanar12/E-commerce-cart-system/blob/main/E_commerce.ipynb\" target=\"_parent\"><img src=\"https://colab.research.google.com/assets/colab-badge.svg\" alt=\"Open In Colab\"/></a>"
      ]
    },
    {
      "cell_type": "code",
      "source": [
        "class Product:\n",
        "    def __init__(self, name, price, available):\n",
        "        self.name = name\n",
        "        self.price = price\n",
        "        self.available = available\n",
        "\n",
        "    def calculate_discount(self):\n",
        "        return 0  # Default discount is 0%\n",
        "\n",
        "    def __str__(self):\n",
        "        return f\"{self.name} (${self.price})\"\n",
        "\n",
        "\n",
        "# Subclass for products with a percentage discount\n",
        "class DiscountedProduct(Product):\n",
        "    def __init__(self, name, price, available, discount_percentage):\n",
        "        super().__init__(name, price, available)\n",
        "        self.discount_percentage = discount_percentage\n",
        "\n",
        "    def calculate_discount(self):\n",
        "        return self.price * (self.discount_percentage / 100)\n",
        "\n",
        "\n",
        "# Class for managing the shopping cart\n",
        "class ShoppingCart:\n",
        "    def __init__(self):\n",
        "        self.cart = []\n",
        "\n",
        "    def add_to_cart(self, product, quantity=1):\n",
        "        for item in self.cart:\n",
        "            if item[\"product\"] == product:\n",
        "                item[\"quantity\"] += quantity\n",
        "                return\n",
        "        self.cart.append({\"product\": product, \"quantity\": quantity})\n",
        "\n",
        "    def update_quantity(self, product, quantity):\n",
        "        for item in self.cart:\n",
        "            if item[\"product\"] == product:\n",
        "                item[\"quantity\"] = quantity\n",
        "                return\n",
        "\n",
        "    def remove_from_cart(self, product):\n",
        "        self.cart = [item for item in self.cart if item[\"product\"] != product]\n",
        "\n",
        "    def calculate_total_bill(self):\n",
        "        total = sum(item[\"product\"].price * item[\"quantity\"] for item in self.cart)\n",
        "        return total\n",
        "\n",
        "    def __str__(self):\n",
        "        items = [f\"{item['quantity']} {item['product'].name}\" for item in self.cart]\n",
        "        return f\"Cart Items: 'You have {', '.join(items)} in your cart.'\"\n",
        "\n",
        "# Example usage\n",
        "if __name__ == \"__main__\":\n",
        "    laptop = Product(\"Laptops\", 1000, True)\n",
        "    headphones = DiscountedProduct(\"Headphones\", 50, True, 10)\n",
        "\n",
        "    cart = ShoppingCart()\n",
        "    cart.add_to_cart(laptop)\n",
        "    cart.add_to_cart(headphones)\n",
        "    cart.update_quantity(laptop, 2)\n",
        "    cart.remove_from_cart(headphones)\n",
        "\n",
        "    cart_items = str(cart)\n",
        "    total_bill = cart.calculate_total_bill()\n",
        "\n",
        "    print(cart_items)\n",
        "    print(f\"Total Bill: Your total bill is Rs.{total_bill}.\")\n"
      ],
      "metadata": {
        "colab": {
          "base_uri": "https://localhost:8080/"
        },
        "id": "la8z38FjpN3p",
        "outputId": "84e2a45c-9f54-461c-cc89-39ade63c24f4"
      },
      "execution_count": 10,
      "outputs": [
        {
          "output_type": "stream",
          "name": "stdout",
          "text": [
            "Cart Items: 'You have 2 Laptops in your cart.'\n",
            "Total Bill: Your total bill is Rs.2000.\n"
          ]
        }
      ]
    },
    {
      "cell_type": "code",
      "source": [],
      "metadata": {
        "id": "6mZRFo72rRMM"
      },
      "execution_count": null,
      "outputs": []
    }
  ]
}